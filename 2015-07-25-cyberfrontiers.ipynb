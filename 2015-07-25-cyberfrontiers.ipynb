{
 "cells": [
  {
   "cell_type": "code",
   "execution_count": 292,
   "metadata": {
    "collapsed": true
   },
   "outputs": [],
   "source": [
    "import re\n",
    "import math\n",
    "import numpy as np\n",
    "import pandas as pd\n",
    "from PIL import Image"
   ]
  },
  {
   "cell_type": "code",
   "execution_count": 358,
   "metadata": {
    "collapsed": false
   },
   "outputs": [],
   "source": [
    "MAX_BYTES=  100000\n",
    "def read_str(filename, jump = False):\n",
    "    byte_list = []\n",
    "    with open (filename, \"rb\") as myfile:\n",
    "        count = 0;\n",
    "        byte = myfile.read(1)\n",
    "        byte_list.append('{0:08b}'.format(ord(byte)))\n",
    "        while count < MAX_BYTES:\n",
    "            byte = myfile.read(1)\n",
    "            if (byte == \"\"):\n",
    "                break\n",
    "            else :  \n",
    "                #ignoring null bytes for now\n",
    "                if ('00000000' != '{0:08b}'.format(ord(byte))) :\n",
    "                    byte_list.append('{0:08b}'.format(ord(byte)))\n",
    "                #print('{0:08b}'.format(ord(byte)))\n",
    "            count += 1\n",
    "            #jump ahead to get a more even distribution\n",
    "            if (jump): myfile.read(10000)\n",
    "    #print(\"done\")\n",
    "    return pd.Series(byte_list)\n",
    "\n",
    "s = read_str('music.m4a')"
   ]
  },
  {
   "cell_type": "code",
   "execution_count": 317,
   "metadata": {
    "collapsed": false
   },
   "outputs": [],
   "source": [
    "#counting the frequency of each n-bit grouping \n",
    "#b is the binary group\n",
    "#freq_count is current freq count, as an array where the index is the ith permutation of the group \n",
    "#and the value is the frequency\n",
    "#this is non pure! modifies freq count\n",
    "def count_frequency(b_list):\n",
    "    #create new list of 0s \n",
    "    freq_count = pd.Series([0 for i in range(int(math.pow(2,n)))])\n",
    "    #for each bit grouping, increment corresponding entry in freq count\n",
    "    def inner_count(b):\n",
    "        freq_count[int(b,2)] += 1 \n",
    "    b_list.map(lambda x: inner_count(x))\n",
    "    return freq_count\n",
    "\n",
    "#freq_count = count_frequency(s)"
   ]
  },
  {
   "cell_type": "code",
   "execution_count": 323,
   "metadata": {
    "collapsed": false,
    "scrolled": true
   },
   "outputs": [],
   "source": [
    "#convert frequency to relative frequency (on [0,1])\n",
    "def convert_freq_to_rel_freq(freq_count):\n",
    "    m = freq_count.max()\n",
    "    return freq_count.map(lambda x : x * 1.0 / m)\n",
    "\n",
    "#another option is to just show whether the pattern occurred at all as a binary value\n",
    "#i.e. 1 if it occurred, zero otherwise\n",
    "def convert_freq_to_binary(freq_count): \n",
    "        return freq_count.map(lambda x : int(x != 0))\n",
    "\n",
    "#rel_freq_count = convert_freq_to_rel_freq(freq_count)\n",
    "#print(rel_freq_count)\n",
    "#bin_freq_count = convert_freq_to_binary(freq_count)\n",
    "#print(bin_freq_count)"
   ]
  },
  {
   "cell_type": "code",
   "execution_count": 324,
   "metadata": {
    "collapsed": false
   },
   "outputs": [],
   "source": [
    "#convert 2 dim frequency vector to 3 dim image matrix\n",
    "def convert_freq_to_matrix(nrows, freq_count):\n",
    "    ncols = len(freq_count) /nrows\n",
    "    mat = np.matrix([[0.0 for i in range(ncols)] for i in range(nrows)])\n",
    "    print(\"matrix shape: \" + str(mat.shape))\n",
    "    \n",
    "    for i, v in enumerate(freq_count):\n",
    "        row = i / ncols #implicit floor\n",
    "        col = i - (row * nrows)\n",
    "        #print(\"row: \" + str(row) + \" col: \" + str(col) + \" v: \" + str(v))\n",
    "        mat[row, col] = v\n",
    "    return mat\n"
   ]
  },
  {
   "cell_type": "code",
   "execution_count": 364,
   "metadata": {
    "collapsed": false
   },
   "outputs": [],
   "source": [
    "#map image coordinates to blocks from freq matrix\n",
    "img_height = img_width = 256\n",
    "block_height = block_width = 16\n",
    "img = Image.new( 'RGB', (img_height, img_width), \"black\") # create a new black image\n",
    "pixels = img.load() # create the pixel map\n",
    "\n",
    "#convert image x, y coordinate to color for the image\n",
    "def img_coord_to_color(x, y, freq_mat):\n",
    "    #converts \n",
    "    #print(\"i: \" + str(x/16) + \" j: \" + str(y/16) + \" v:\" +  str(freq_mat[x/16, y/16]))\n",
    "    return freq_mat[x/16, y/16]\n",
    "\n",
    "def print_image(mat, filename):\n",
    "    for i in range(img.size[0]):    # for every pixel:\n",
    "        for j in range(img.size[1]):\n",
    "            color_val = int(img_coord_to_color(j,i, mat) * 256)\n",
    "            pixels[i,j] = (color_val, color_val, color_val) # set the colour accordingly\n",
    "    img.show()\n",
    "    img.save(filename + \".bmp\")\n"
   ]
  },
  {
   "cell_type": "code",
   "execution_count": 368,
   "metadata": {
    "collapsed": false
   },
   "outputs": [],
   "source": [
    "def generate_img(filename, extension, jump = False):\n",
    "    binary_groups = read_str(filename + extension, jump)\n",
    "    freq_count = count_frequency(binary_groups)\n",
    "    #bin_freq_count = convert_freq_to_binary(freq_count)\n",
    "    rel_freq_count = convert_freq_to_rel_freq(freq_count)\n",
    "    mat =  convert_freq_to_matrix(16, rel_freq_count)\n",
    "    print_image(mat, filename)"
   ]
  },
  {
   "cell_type": "code",
   "execution_count": 369,
   "metadata": {
    "collapsed": false
   },
   "outputs": [
    {
     "name": "stdout",
     "output_type": "stream",
     "text": [
      "matrix shape: (16, 16)\n",
      "matrix shape: (16, 16)\n",
      "matrix shape: (16, 16)\n"
     ]
    }
   ],
   "source": [
    "#add your own files here\n",
    "\n",
    "#generate_img(\"loremipsum\", \".txt\")\n",
    "#generate_img(\"216p1\",\".bin\")\n",
    "#generate_img('music', '.m4a', True)\n",
    "#generate_img('/usr/bin/vim', '', True)\n",
    "#generate_img('music3', '.mp3', True)\n",
    "#generate_img('movie', '.mp4', True)\n",
    "#generate_img('movie copy', '.bmp', False)\n",
    "#generate_img('imagejpeg_2', '.jpg', False)\n",
    "#generate_img('spring2015ACESFormal', '.png', False)\n",
    "#generate_img('more_text', '.txt', False)"
   ]
  },
  {
   "cell_type": "code",
   "execution_count": null,
   "metadata": {
    "collapsed": true
   },
   "outputs": [],
   "source": []
  },
  {
   "cell_type": "code",
   "execution_count": null,
   "metadata": {
    "collapsed": true
   },
   "outputs": [],
   "source": []
  }
 ],
 "metadata": {
  "kernelspec": {
   "display_name": "Python 2",
   "language": "python",
   "name": "python2"
  },
  "language_info": {
   "codemirror_mode": {
    "name": "ipython",
    "version": 2
   },
   "file_extension": ".py",
   "mimetype": "text/x-python",
   "name": "python",
   "nbconvert_exporter": "python",
   "pygments_lexer": "ipython2",
   "version": "2.7.9"
  }
 },
 "nbformat": 4,
 "nbformat_minor": 0
}
